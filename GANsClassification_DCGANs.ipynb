{
  "nbformat": 4,
  "nbformat_minor": 0,
  "metadata": {
    "colab": {
      "name": "GANsClassification_DCGANs.ipynb",
      "provenance": [],
      "collapsed_sections": []
    },
    "kernelspec": {
      "name": "python3",
      "display_name": "Python 3"
    },
    "language_info": {
      "name": "python"
    },
    "accelerator": "GPU"
  },
  "cells": [
    {
      "cell_type": "code",
      "metadata": {
        "id": "uThNJ_cl2oUk"
      },
      "source": [
        "import numpy as np\n",
        "import pandas as pd\n",
        "import matplotlib.pyplot as plt\n",
        "from sklearn.utils import shuffle\n",
        "from sklearn.preprocessing import LabelEncoder\n",
        "import matplotlib.pyplot as plt\n",
        "from sklearn.metrics import plot_confusion_matrix\n",
        "from PIL import Image\n",
        "%matplotlib inline\n",
        "\n",
        "import tensorflow as tf\n",
        "from tensorflow.keras.preprocessing import image\n",
        "from keras.preprocessing.image import ImageDataGenerator,load_img, img_to_array\n",
        "from tensorflow.keras.metrics import categorical_crossentropy\n",
        "from keras.models import Sequential, Model\n",
        "from keras.layers import Conv2D, MaxPooling2D,GlobalAveragePooling2D\n",
        "from keras.layers import Activation, Dropout, BatchNormalization, Flatten, Dense, AvgPool2D,MaxPool2D\n",
        "from keras.models import Sequential, Model\n",
        "from tensorflow.keras.optimizers import Adam, SGD, RMSprop\n",
        "from keras import backend as K\n",
        "\n",
        "import cv2\n",
        "import shutil\n",
        "import glob\n",
        "import os"
      ],
      "execution_count": 1,
      "outputs": []
    },
    {
      "cell_type": "code",
      "metadata": {
        "colab": {
          "base_uri": "https://localhost:8080/"
        },
        "id": "51Tmyvxhh4Yr",
        "outputId": "c9393a2c-bbfd-4d95-ad29-ae0cdabaf008"
      },
      "source": [
        "from google.colab import drive\n",
        "drive.mount('drive', force_remount=True)"
      ],
      "execution_count": 2,
      "outputs": [
        {
          "output_type": "stream",
          "name": "stdout",
          "text": [
            "Mounted at drive\n"
          ]
        }
      ]
    },
    {
      "cell_type": "code",
      "metadata": {
        "id": "upn2ITeokkcJ"
      },
      "source": [
        "data = '/content/drive/MyDrive/DCGANs/'\n",
        "No_brain_tumor = '/content/drive/MyDrive/DCGANs/No'\n",
        "Yes_brain_tumor = '/content/drive/MyDrive/DCGANs/Yes'"
      ],
      "execution_count": 3,
      "outputs": []
    },
    {
      "cell_type": "code",
      "metadata": {
        "colab": {
          "base_uri": "https://localhost:8080/"
        },
        "id": "lVYupjaY5BDx",
        "outputId": "0be7a86b-188a-44ce-b37a-231bf0658853"
      },
      "source": [
        "dirlist=[No_brain_tumor, Yes_brain_tumor]\n",
        "classes=['No', 'Yes']\n",
        "filepaths=[]\n",
        "labels=[]\n",
        "for i,j in zip(dirlist, classes):\n",
        "    filelist=os.listdir(i)\n",
        "    for f in filelist:\n",
        "        filepath=os.path.join (i,f)\n",
        "        filepaths.append(filepath)\n",
        "        labels.append(j)\n",
        "print ('filepaths: ', len(filepaths), '   labels: ', len(labels))"
      ],
      "execution_count": 4,
      "outputs": [
        {
          "output_type": "stream",
          "name": "stdout",
          "text": [
            "filepaths:  528    labels:  528\n"
          ]
        }
      ]
    },
    {
      "cell_type": "code",
      "metadata": {
        "colab": {
          "base_uri": "https://localhost:8080/",
          "height": 206
        },
        "id": "0cYOmIci5IlV",
        "outputId": "351644ec-15ca-41fd-c819-d84a3ec0f3a3"
      },
      "source": [
        "Files=pd.Series(filepaths, name='filepaths')\n",
        "Label=pd.Series(labels, name='labels')\n",
        "df=pd.concat([Files,Label], axis=1)\n",
        "df=pd.DataFrame(np.array(df).reshape(len(Files),2), columns = ['filepaths', 'labels'])\n",
        "df.head()"
      ],
      "execution_count": 6,
      "outputs": [
        {
          "output_type": "execute_result",
          "data": {
            "text/html": [
              "<div>\n",
              "<style scoped>\n",
              "    .dataframe tbody tr th:only-of-type {\n",
              "        vertical-align: middle;\n",
              "    }\n",
              "\n",
              "    .dataframe tbody tr th {\n",
              "        vertical-align: top;\n",
              "    }\n",
              "\n",
              "    .dataframe thead th {\n",
              "        text-align: right;\n",
              "    }\n",
              "</style>\n",
              "<table border=\"1\" class=\"dataframe\">\n",
              "  <thead>\n",
              "    <tr style=\"text-align: right;\">\n",
              "      <th></th>\n",
              "      <th>filepaths</th>\n",
              "      <th>labels</th>\n",
              "    </tr>\n",
              "  </thead>\n",
              "  <tbody>\n",
              "    <tr>\n",
              "      <th>0</th>\n",
              "      <td>/content/drive/MyDrive/DCGANs/No/Normal (104).jpg</td>\n",
              "      <td>No</td>\n",
              "    </tr>\n",
              "    <tr>\n",
              "      <th>1</th>\n",
              "      <td>/content/drive/MyDrive/DCGANs/No/Normal (110).jpg</td>\n",
              "      <td>No</td>\n",
              "    </tr>\n",
              "    <tr>\n",
              "      <th>2</th>\n",
              "      <td>/content/drive/MyDrive/DCGANs/No/Normal (129).jpg</td>\n",
              "      <td>No</td>\n",
              "    </tr>\n",
              "    <tr>\n",
              "      <th>3</th>\n",
              "      <td>/content/drive/MyDrive/DCGANs/No/Normal (116).jpg</td>\n",
              "      <td>No</td>\n",
              "    </tr>\n",
              "    <tr>\n",
              "      <th>4</th>\n",
              "      <td>/content/drive/MyDrive/DCGANs/No/Normal (105).jpg</td>\n",
              "      <td>No</td>\n",
              "    </tr>\n",
              "  </tbody>\n",
              "</table>\n",
              "</div>"
            ],
            "text/plain": [
              "                                           filepaths labels\n",
              "0  /content/drive/MyDrive/DCGANs/No/Normal (104).jpg     No\n",
              "1  /content/drive/MyDrive/DCGANs/No/Normal (110).jpg     No\n",
              "2  /content/drive/MyDrive/DCGANs/No/Normal (129).jpg     No\n",
              "3  /content/drive/MyDrive/DCGANs/No/Normal (116).jpg     No\n",
              "4  /content/drive/MyDrive/DCGANs/No/Normal (105).jpg     No"
            ]
          },
          "metadata": {},
          "execution_count": 6
        }
      ]
    },
    {
      "cell_type": "code",
      "metadata": {
        "colab": {
          "base_uri": "https://localhost:8080/"
        },
        "id": "jG9iJMdy5Ld3",
        "outputId": "b1f3c057-d14d-4da2-bd30-b2771f9965ba"
      },
      "source": [
        "print(df['labels'].value_counts())"
      ],
      "execution_count": 7,
      "outputs": [
        {
          "output_type": "stream",
          "name": "stdout",
          "text": [
            "Yes    294\n",
            "No     234\n",
            "Name: labels, dtype: int64\n"
          ]
        }
      ]
    },
    {
      "cell_type": "code",
      "metadata": {
        "id": "uKRxKB6OA0Md"
      },
      "source": [
        "df = shuffle(df)"
      ],
      "execution_count": 8,
      "outputs": []
    },
    {
      "cell_type": "code",
      "metadata": {
        "colab": {
          "base_uri": "https://localhost:8080/",
          "height": 206
        },
        "id": "--9WIoH2A7Gx",
        "outputId": "43604bd2-a377-400a-a55d-2913874c63e8"
      },
      "source": [
        "df.head()"
      ],
      "execution_count": 9,
      "outputs": [
        {
          "output_type": "execute_result",
          "data": {
            "text/html": [
              "<div>\n",
              "<style scoped>\n",
              "    .dataframe tbody tr th:only-of-type {\n",
              "        vertical-align: middle;\n",
              "    }\n",
              "\n",
              "    .dataframe tbody tr th {\n",
              "        vertical-align: top;\n",
              "    }\n",
              "\n",
              "    .dataframe thead th {\n",
              "        text-align: right;\n",
              "    }\n",
              "</style>\n",
              "<table border=\"1\" class=\"dataframe\">\n",
              "  <thead>\n",
              "    <tr style=\"text-align: right;\">\n",
              "      <th></th>\n",
              "      <th>filepaths</th>\n",
              "      <th>labels</th>\n",
              "    </tr>\n",
              "  </thead>\n",
              "  <tbody>\n",
              "    <tr>\n",
              "      <th>123</th>\n",
              "      <td>/content/drive/MyDrive/DCGANs/No/Normal (48).jpg</td>\n",
              "      <td>No</td>\n",
              "    </tr>\n",
              "    <tr>\n",
              "      <th>124</th>\n",
              "      <td>/content/drive/MyDrive/DCGANs/No/Normal (49).jpg</td>\n",
              "      <td>No</td>\n",
              "    </tr>\n",
              "    <tr>\n",
              "      <th>192</th>\n",
              "      <td>/content/drive/MyDrive/DCGANs/No/20.JPG</td>\n",
              "      <td>No</td>\n",
              "    </tr>\n",
              "    <tr>\n",
              "      <th>183</th>\n",
              "      <td>/content/drive/MyDrive/DCGANs/No/44.JPG</td>\n",
              "      <td>No</td>\n",
              "    </tr>\n",
              "    <tr>\n",
              "      <th>94</th>\n",
              "      <td>/content/drive/MyDrive/DCGANs/No/Normal (53).jpg</td>\n",
              "      <td>No</td>\n",
              "    </tr>\n",
              "  </tbody>\n",
              "</table>\n",
              "</div>"
            ],
            "text/plain": [
              "                                            filepaths labels\n",
              "123  /content/drive/MyDrive/DCGANs/No/Normal (48).jpg     No\n",
              "124  /content/drive/MyDrive/DCGANs/No/Normal (49).jpg     No\n",
              "192           /content/drive/MyDrive/DCGANs/No/20.JPG     No\n",
              "183           /content/drive/MyDrive/DCGANs/No/44.JPG     No\n",
              "94   /content/drive/MyDrive/DCGANs/No/Normal (53).jpg     No"
            ]
          },
          "metadata": {},
          "execution_count": 9
        }
      ]
    },
    {
      "cell_type": "code",
      "metadata": {
        "colab": {
          "base_uri": "https://localhost:8080/"
        },
        "id": "YoKyk5CQwgQh",
        "outputId": "760e80d5-c090-4b90-ef51-b6b5fb36ba48"
      },
      "source": [
        "df.info()"
      ],
      "execution_count": 24,
      "outputs": [
        {
          "output_type": "stream",
          "name": "stdout",
          "text": [
            "<class 'pandas.core.frame.DataFrame'>\n",
            "Int64Index: 528 entries, 123 to 188\n",
            "Data columns (total 2 columns):\n",
            " #   Column     Non-Null Count  Dtype \n",
            "---  ------     --------------  ----- \n",
            " 0   filepaths  528 non-null    object\n",
            " 1   labels     528 non-null    object\n",
            "dtypes: object(2)\n",
            "memory usage: 32.4+ KB\n"
          ]
        }
      ]
    },
    {
      "cell_type": "code",
      "metadata": {
        "id": "MZ2jT4OQ8kld"
      },
      "source": [
        "images = []\n",
        "for filename in df['filepaths']:\n",
        "  img=Image.open(filename)\n",
        "  img = img.resize((128,128))\n",
        "  img = np.array(img)\n",
        "  img = (img.astype(np.float32) - 127.5)/127.5\n",
        "  if len(img.shape) > 2 and img.shape[2] == 4:\n",
        "      img = cv2.cvtColor(img, cv2.COLOR_BGRA2BGR)\n",
        "  if len(img.shape) > 2 and img.shape[2] == 3:\n",
        "      img = cv2.cvtColor(img, cv2.COLOR_BGR2GRAY)\n",
        "  images.append(img)\n",
        "\n",
        "images = np.array(images)"
      ],
      "execution_count": 10,
      "outputs": []
    },
    {
      "cell_type": "code",
      "metadata": {
        "colab": {
          "base_uri": "https://localhost:8080/"
        },
        "id": "6LyKaE5K9aYN",
        "outputId": "14ad0770-e5a1-4e16-a650-2ba96be121fe"
      },
      "source": [
        "images.shape"
      ],
      "execution_count": 11,
      "outputs": [
        {
          "output_type": "execute_result",
          "data": {
            "text/plain": [
              "(528, 128, 128)"
            ]
          },
          "metadata": {},
          "execution_count": 11
        }
      ]
    },
    {
      "cell_type": "code",
      "metadata": {
        "colab": {
          "base_uri": "https://localhost:8080/"
        },
        "id": "8hI92-k7v9sv",
        "outputId": "9cd63c89-86a7-4ecf-a713-803023b2eb65"
      },
      "source": [
        "images[0].shape"
      ],
      "execution_count": 21,
      "outputs": [
        {
          "output_type": "execute_result",
          "data": {
            "text/plain": [
              "(128, 128)"
            ]
          },
          "metadata": {},
          "execution_count": 21
        }
      ]
    },
    {
      "cell_type": "code",
      "metadata": {
        "colab": {
          "base_uri": "https://localhost:8080/",
          "height": 174
        },
        "id": "9BfENqi6BtK6",
        "outputId": "56ad1f7b-14d0-4d5f-d1bc-7ae90ee4d274"
      },
      "source": [
        "plt.figure(figsize=(10,8))\n",
        "for i in range(4):\n",
        "    random = np.random.randint(1,len(df))\n",
        "    plt.subplot(1,4,i+1)\n",
        "    plt.imshow(images[random], cmap='gray')\n",
        "    plt.title(df.loc[random, \"labels\"], size = 15, color = \"black\") \n",
        "    plt.xticks([])\n",
        "    plt.yticks([])\n",
        "    \n",
        "plt.show()"
      ],
      "execution_count": 12,
      "outputs": [
        {
          "output_type": "display_data",
          "data": {
            "image/png": "[encoded data removed]",
            "text/plain": [
              "<Figure size 720x576 with 4 Axes>"
            ]
          },
          "metadata": {}
        }
      ]
    },
    {
      "cell_type": "code",
      "metadata": {
        "colab": {
          "base_uri": "https://localhost:8080/"
        },
        "id": "raTw1s3sw6Cu",
        "outputId": "ee002ef4-ec49-4e21-c1fd-a69fd4f5202e"
      },
      "source": [
        "df['labels'].value_counts()"
      ],
      "execution_count": 26,
      "outputs": [
        {
          "output_type": "execute_result",
          "data": {
            "text/plain": [
              "Yes    294\n",
              "No     234\n",
              "Name: labels, dtype: int64"
            ]
          },
          "metadata": {},
          "execution_count": 26
        }
      ]
    },
    {
      "cell_type": "code",
      "metadata": {
        "id": "RSawYf4Sw2JK"
      },
      "source": [
        "df['labels'] = df['labels'].map({'Yes': 1, 'No': 0})"
      ],
      "execution_count": 28,
      "outputs": []
    },
    {
      "cell_type": "code",
      "metadata": {
        "colab": {
          "base_uri": "https://localhost:8080/"
        },
        "id": "u_eMy0zW-t0i",
        "outputId": "f3087ebc-37c2-4464-f16a-afaff9e02e15"
      },
      "source": [
        "from sklearn.model_selection import train_test_split\n",
        "\n",
        "X_train, X_test, y_train, y_test = train_test_split(images, df['labels'], test_size=0.4)\n",
        "X_valid, X_test, y_valid, y_test = train_test_split(X_test, y_test, test_size=0.5)\n",
        "\n",
        "print(f\"X_train set shape: {X_train.shape} y_train set shape: {y_train.shape}\")\n",
        "print(f\"X_valid set shape: {X_valid.shape} y_valid set shape: {y_valid.shape}\")\n",
        "print(f\"X_test set shape: {X_test.shape} y_test set shape: {y_test.shape}\")"
      ],
      "execution_count": 29,
      "outputs": [
        {
          "output_type": "stream",
          "name": "stdout",
          "text": [
            "X_train set shape: (316, 128, 128) y_train set shape: (316,)\n",
            "X_valid set shape: (106, 128, 128) y_valid set shape: (106,)\n",
            "X_test set shape: (106, 128, 128) y_test set shape: (106,)\n"
          ]
        }
      ]
    },
    {
      "cell_type": "code",
      "metadata": {
        "id": "ICs2Ou3sLhLC"
      },
      "source": [
        "epochs = 10\n",
        "batch_size = 10\n",
        "input_shape = (128,128,1)"
      ],
      "execution_count": 30,
      "outputs": []
    },
    {
      "cell_type": "code",
      "metadata": {
        "id": "HHLtEkjLSTTD"
      },
      "source": [
        "model = Sequential()\n",
        "model.add(Conv2D(32,3,padding=\"same\", activation=\"relu\", input_shape=(128,128,1)))\n",
        "model.add(MaxPool2D())\n",
        "\n",
        "model.add(Conv2D(32, 3, padding=\"same\", activation=\"relu\"))\n",
        "model.add(MaxPool2D())\n",
        "\n",
        "model.add(Conv2D(64, 3, padding=\"same\", activation=\"relu\"))\n",
        "model.add(MaxPool2D())\n",
        "model.add(Dropout(0.5))\n",
        "\n",
        "model.add(Flatten())\n",
        "model.add(Dense(128,activation=\"relu\"))\n",
        "model.add(Dense(1, activation=\"sigmoid\"))"
      ],
      "execution_count": 31,
      "outputs": []
    },
    {
      "cell_type": "code",
      "metadata": {
        "colab": {
          "base_uri": "https://localhost:8080/"
        },
        "id": "qCAGLnv1SbYz",
        "outputId": "4f0db7ee-2963-4e73-bab3-b8cea4bfadca"
      },
      "source": [
        "model.summary()"
      ],
      "execution_count": 32,
      "outputs": [
        {
          "output_type": "stream",
          "name": "stdout",
          "text": [
            "Model: \"sequential_1\"\n",
            "_________________________________________________________________\n",
            " Layer (type)                Output Shape              Param #   \n",
            "=================================================================\n",
            " conv2d_3 (Conv2D)           (None, 128, 128, 32)      320       \n",
            "                                                                 \n",
            " max_pooling2d_3 (MaxPooling  (None, 64, 64, 32)       0         \n",
            " 2D)                                                             \n",
            "                                                                 \n",
            " conv2d_4 (Conv2D)           (None, 64, 64, 32)        9248      \n",
            "                                                                 \n",
            " max_pooling2d_4 (MaxPooling  (None, 32, 32, 32)       0         \n",
            " 2D)                                                             \n",
            "                                                                 \n",
            " conv2d_5 (Conv2D)           (None, 32, 32, 64)        18496     \n",
            "                                                                 \n",
            " max_pooling2d_5 (MaxPooling  (None, 16, 16, 64)       0         \n",
            " 2D)                                                             \n",
            "                                                                 \n",
            " dropout_1 (Dropout)         (None, 16, 16, 64)        0         \n",
            "                                                                 \n",
            " flatten_1 (Flatten)         (None, 16384)             0         \n",
            "                                                                 \n",
            " dense_2 (Dense)             (None, 128)               2097280   \n",
            "                                                                 \n",
            " dense_3 (Dense)             (None, 1)                 129       \n",
            "                                                                 \n",
            "=================================================================\n",
            "Total params: 2,125,473\n",
            "Trainable params: 2,125,473\n",
            "Non-trainable params: 0\n",
            "_________________________________________________________________\n"
          ]
        }
      ]
    },
    {
      "cell_type": "code",
      "metadata": {
        "id": "EFiKO9nKSd_K"
      },
      "source": [
        "model.compile(loss=\"binary_crossentropy\",\n",
        "              optimizer='Adam',\n",
        "              metrics=['accuracy'])"
      ],
      "execution_count": 33,
      "outputs": []
    },
    {
      "cell_type": "code",
      "metadata": {
        "id": "5i2D0jDvV5tu"
      },
      "source": [
        "X_train = X_train.reshape(-1, 128, 128, 1)\n",
        "X_valid = X_valid.reshape(-1, 128, 128, 1)\n",
        "X_test = X_test.reshape(-1, 128, 128, 1)"
      ],
      "execution_count": 34,
      "outputs": []
    },
    {
      "cell_type": "code",
      "metadata": {
        "colab": {
          "base_uri": "https://localhost:8080/"
        },
        "id": "tmKVf66pwIM5",
        "outputId": "0bf73bdc-5b46-4dc5-da80-660421e647ef"
      },
      "source": [
        "print(X_train.shape, X_valid.shape, X_test.shape)"
      ],
      "execution_count": 35,
      "outputs": [
        {
          "output_type": "stream",
          "name": "stdout",
          "text": [
            "(316, 128, 128, 1) (106, 128, 128, 1) (106, 128, 128, 1)\n"
          ]
        }
      ]
    },
    {
      "cell_type": "code",
      "metadata": {
        "colab": {
          "base_uri": "https://localhost:8080/"
        },
        "id": "E6Hs_7kKSiXU",
        "outputId": "7ec9f799-4bef-4063-cfed-80823b4c2453"
      },
      "source": [
        "hist = model.fit(X_train, y_train,\n",
        "          batch_size=batch_size,\n",
        "          epochs=epochs,\n",
        "          verbose=1,\n",
        "          validation_data=(X_valid, y_valid))"
      ],
      "execution_count": 36,
      "outputs": [
        {
          "output_type": "stream",
          "name": "stdout",
          "text": [
            "Epoch 1/10\n",
            "32/32 [==============================] - 11s 32ms/step - loss: 0.7018 - accuracy: 0.5380 - val_loss: 0.6634 - val_accuracy: 0.5189\n",
            "Epoch 2/10\n",
            "32/32 [==============================] - 0s 15ms/step - loss: 0.6140 - accuracy: 0.6741 - val_loss: 0.4706 - val_accuracy: 0.8302\n",
            "Epoch 3/10\n",
            "32/32 [==============================] - 1s 18ms/step - loss: 0.5083 - accuracy: 0.7500 - val_loss: 0.3594 - val_accuracy: 0.8679\n",
            "Epoch 4/10\n",
            "32/32 [==============================] - 0s 15ms/step - loss: 0.3756 - accuracy: 0.8354 - val_loss: 0.3102 - val_accuracy: 0.8679\n",
            "Epoch 5/10\n",
            "32/32 [==============================] - 1s 16ms/step - loss: 0.2672 - accuracy: 0.8956 - val_loss: 0.2750 - val_accuracy: 0.8962\n",
            "Epoch 6/10\n",
            "32/32 [==============================] - 1s 16ms/step - loss: 0.1820 - accuracy: 0.9272 - val_loss: 0.3048 - val_accuracy: 0.8679\n",
            "Epoch 7/10\n",
            "32/32 [==============================] - 0s 15ms/step - loss: 0.1666 - accuracy: 0.9335 - val_loss: 0.2687 - val_accuracy: 0.8585\n",
            "Epoch 8/10\n",
            "32/32 [==============================] - 0s 15ms/step - loss: 0.0636 - accuracy: 0.9842 - val_loss: 0.3302 - val_accuracy: 0.8962\n",
            "Epoch 9/10\n",
            "32/32 [==============================] - 0s 16ms/step - loss: 0.0734 - accuracy: 0.9715 - val_loss: 0.2596 - val_accuracy: 0.9057\n",
            "Epoch 10/10\n",
            "32/32 [==============================] - 1s 16ms/step - loss: 0.0954 - accuracy: 0.9557 - val_loss: 0.2340 - val_accuracy: 0.9151\n"
          ]
        }
      ]
    },
    {
      "cell_type": "code",
      "metadata": {
        "colab": {
          "base_uri": "https://localhost:8080/"
        },
        "id": "D1ZooJ4LSkdw",
        "outputId": "e98b6d72-2637-4260-e92d-1a4db262dd40"
      },
      "source": [
        "print(hist.history.keys())"
      ],
      "execution_count": 37,
      "outputs": [
        {
          "output_type": "stream",
          "name": "stdout",
          "text": [
            "dict_keys(['loss', 'accuracy', 'val_loss', 'val_accuracy'])\n"
          ]
        }
      ]
    },
    {
      "cell_type": "code",
      "metadata": {
        "colab": {
          "base_uri": "https://localhost:8080/",
          "height": 295
        },
        "id": "Xqt0GUV7XYr1",
        "outputId": "571b08dd-dcae-4f12-c5f2-3c0bfeca029c"
      },
      "source": [
        "plt.plot(hist.history['accuracy'])\n",
        "plt.plot(hist.history['val_accuracy'])\n",
        "plt.title('model accuracy')\n",
        "plt.ylabel('accuracy')\n",
        "plt.xlabel('epoch')\n",
        "plt.legend(['train', 'test'], loc='upper left')\n",
        "plt.show()"
      ],
      "execution_count": 38,
      "outputs": [
        {
          "output_type": "display_data",
          "data": {
            "image/png": "[encoded data removed]",
            "text/plain": [
              "<Figure size 432x288 with 1 Axes>"
            ]
          },
          "metadata": {
            "needs_background": "light"
          }
        }
      ]
    },
    {
      "cell_type": "code",
      "metadata": {
        "colab": {
          "base_uri": "https://localhost:8080/",
          "height": 295
        },
        "id": "rmQg71TIXdJc",
        "outputId": "5073f8e6-c998-45d8-cda0-d6c24bc5e388"
      },
      "source": [
        "plt.plot(hist.history['loss'])\n",
        "plt.plot(hist.history['val_loss'])\n",
        "plt.title('model loss')\n",
        "plt.ylabel('loss')\n",
        "plt.xlabel('epoch')\n",
        "plt.legend(['train', 'test'], loc='upper left')\n",
        "plt.show()"
      ],
      "execution_count": 39,
      "outputs": [
        {
          "output_type": "display_data",
          "data": {
            "image/png": "[encoded data removed]",
            "text/plain": [
              "<Figure size 432x288 with 1 Axes>"
            ]
          },
          "metadata": {
            "needs_background": "light"
          }
        }
      ]
    },
    {
      "cell_type": "code",
      "metadata": {
        "colab": {
          "base_uri": "https://localhost:8080/",
          "height": 265
        },
        "id": "CK6KFzhGYne6",
        "outputId": "37d785e6-6cc9-4445-ed08-43a149259023"
      },
      "source": [
        "import seaborn as sns\n",
        "from sklearn.metrics import confusion_matrix\n",
        "y_pred = np.where(model.predict(X_test) > 0.5, 1, 0)\n",
        "cm = confusion_matrix(y_test, y_pred)\n",
        "f = sns.heatmap(cm, annot=True, fmt='d')"
      ],
      "execution_count": 40,
      "outputs": [
        {
          "output_type": "display_data",
          "data": {
            "image/png": "[encoded data removed]",
            "text/plain": [
              "<Figure size 432x288 with 2 Axes>"
            ]
          },
          "metadata": {
            "needs_background": "light"
          }
        }
      ]
    },
    {
      "cell_type": "code",
      "metadata": {
        "colab": {
          "base_uri": "https://localhost:8080/"
        },
        "id": "iXSkNJSqeyoL",
        "outputId": "134cdfa8-8c07-4e25-873c-9ac6272d8f2d"
      },
      "source": [
        "from sklearn.metrics import accuracy_score\n",
        "accuracy_score(y_test,y_pred)"
      ],
      "execution_count": 41,
      "outputs": [
        {
          "output_type": "execute_result",
          "data": {
            "text/plain": [
              "0.8962264150943396"
            ]
          },
          "metadata": {},
          "execution_count": 41
        }
      ]
    },
    {
      "cell_type": "markdown",
      "metadata": {
        "id": "nobwflWYm4Ai"
      },
      "source": [
        "\n",
        "\n",
        "---\n",
        "\n",
        "\n",
        "\n",
        "---\n",
        "\n"
      ]
    }
  ]
}